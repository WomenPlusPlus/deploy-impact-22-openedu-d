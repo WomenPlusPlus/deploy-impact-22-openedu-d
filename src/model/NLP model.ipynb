{
 "cells": [
  {
   "cell_type": "code",
   "execution_count": 1,
   "id": "9c8c02b7",
   "metadata": {},
   "outputs": [],
   "source": [
    "import numpy as np\n",
    "import pandas as pd\n",
    "\n",
    "import warnings \n",
    "warnings.filterwarnings('ignore')\n",
    "\n",
    "# keyword extraction\n",
    "import re\n",
    "from keybert import KeyBERT\n",
    "kw_model = KeyBERT(model='all-mpnet-base-v2')\n",
    "\n",
    "#zero shot classification\n",
    "from transformers import pipeline"
   ]
  },
  {
   "cell_type": "code",
   "execution_count": 2,
   "id": "c01a1d77",
   "metadata": {},
   "outputs": [],
   "source": [
    "data = pd.read_excel(\"data.xlsx\")"
   ]
  },
  {
   "cell_type": "code",
   "execution_count": 3,
   "id": "8147a996",
   "metadata": {},
   "outputs": [],
   "source": [
    "#KeyBert\n",
    "def keybert_pipeline_mono(text):\n",
    "    keywords = kw_model.extract_keywords(text, \n",
    "                                     keyphrase_ngram_range=(1, 1),\n",
    "                                     #keyphrase_ngram_range=(2, 2),\n",
    "                                     stop_words='english', \n",
    "                                     highlight=False,\n",
    "                                     top_n=5)\n",
    "\n",
    "    return keywords\n",
    "\n",
    "\n",
    "def keybert_pipeline_mono_no_scores(text):\n",
    "    keywords = kw_model.extract_keywords(text, \n",
    "                                     keyphrase_ngram_range=(1, 1),\n",
    "                                     #keyphrase_ngram_range=(2, 2),\n",
    "                                     stop_words='english', \n",
    "                                     highlight=False,\n",
    "                                     top_n=5)\n",
    "    keywords_list= list(dict(keywords).keys())\n",
    "\n",
    "    return keywords_list"
   ]
  },
  {
   "cell_type": "code",
   "execution_count": 4,
   "id": "dfb90d58",
   "metadata": {},
   "outputs": [],
   "source": [
    "data['KeyBert_mono'] = data[\"excerpt\"].apply(keybert_pipeline_mono)\n",
    "data['KeyBert_mono_no_scores'] = data[\"excerpt\"].apply(keybert_pipeline_mono_no_scores)\n",
    "data['KM'] = data['keybert_mono_cleaned'].apply(lambda x : re.findall(r\"[\\w']+\",x)[0])\n",
    "data.to_excel('data with keywords.xlsx')"
   ]
  },
  {
   "cell_type": "code",
   "execution_count": 5,
   "id": "09ddee9e",
   "metadata": {},
   "outputs": [],
   "source": [
    "#zero shot classification\n",
    "classifier_pipeline = pipeline (\"zero-shot-classification\", model = \"facebook/bart-large-mnli\")"
   ]
  },
  {
   "cell_type": "code",
   "execution_count": 6,
   "id": "b9ae03f8",
   "metadata": {},
   "outputs": [],
   "source": [
    "# Robotics\n",
    "\n",
    "def zeroshotPipeline(text):\n",
    "    input_ids = text\n",
    "    #candidate_label = ['Ontology', 'Data Science', 'Astrophysics', 'Marine Biology', 'Climate Change', 'Psychology', 'War', 'Artificial Intelligence', 'Machine Learning', 'Scrum Master', 'Contemporary Art', 'Vegan Cooking', 'Landscape Photography', 'Switzerland', 'European Union', 'NATO', 'Family Constellations', 'Bioengineering', 'Medicine', 'Physics', 'Mathematics', 'Data Visualization', 'Topic Modeling', 'Antarctica', 'Sequoia', 'Blue Whale', 'Matcha', 'Solar Panels', 'Thyroid', 'Gender equality', 'Education', 'Developing country', 'Spanish History', 'Dog training', 'Solar System', 'Autoimmune disease']\n",
    "    candidate_label = ['lego',\n",
    "                        'mindstorm',\n",
    "                        'computer science',\n",
    "                        'technology',\n",
    "                        'cinema',\n",
    "                        'motors',\n",
    "                        'programming',\n",
    "                        'geometry',\n",
    "                        'engineering',\n",
    "                        'others']\n",
    "\n",
    "    results = classifier_pipeline(input_ids, \n",
    "                         candidate_label)\n",
    "                        # multi_label = True)\n",
    "                        # hypothesis_template = template)\n",
    "    score_id = np.argmax(results[\"scores\"])\n",
    "    final_label = results[\"labels\"][score_id]\n",
    "    prob = results[\"scores\"][score_id]\n",
    "    return final_label, prob\n",
    "\n",
    "\n",
    "Robotics = data.loc[data['topic'] == 'Robotics']\n",
    "Robotics[\"zero_shot_class_1\"] = \"\"\n",
    "#Robotics['zero_shot_class_1'] = Robotics[\"Reviews\"].apply(zeroshotPipeline)\n",
    "Robotics['zero_shot_class_1'] = Robotics[\"excerpt\"].apply(zeroshotPipeline)\n",
    "split_robotics = pd.DataFrame(Robotics['zero_shot_class_1'].tolist(), columns=['level-1', 'level-1 score'])\n",
    "Robotics.reset_index(drop=True, inplace=True)\n",
    "split_robotics.reset_index(drop=True, inplace=True)\n",
    "data1 = pd.concat([Robotics, split_robotics], axis=1)\n",
    "robotics = data1.copy()\n",
    "robotics.to_excel('robotics_new_class.xlsx')"
   ]
  },
  {
   "cell_type": "code",
   "execution_count": 10,
   "id": "0bc05546",
   "metadata": {},
   "outputs": [],
   "source": [
    "robotics['kw_1'] = robotics['keybert_mono_cleaned'].apply(lambda x : re.findall(r\"[\\w']+\",x)[0])\n",
    "robotics['kw_2'] = robotics['keybert_mono_cleaned'].apply(lambda x : re.findall(r\"[\\w']+\",x)[1])\n",
    "robotics['kw_3'] = robotics['keybert_mono_cleaned'].apply(lambda x : re.findall(r\"[\\w']+\",x)[2])\n",
    "robotics['kw_4'] = robotics['keybert_mono_cleaned'].apply(lambda x : re.findall(r\"[\\w']+\",x)[3])\n",
    "robotics['kw_5'] = robotics['keybert_mono_cleaned'].apply(lambda x : re.findall(r\"[\\w']+\",x)[4])\n",
    "\n",
    "col_list = ['topic', 'excerpt', 'level-1', 'kw_1', 'kw_2', 'kw_3', 'kw_4', 'kw_5']\n",
    "data_final = robotics[col_list]\n",
    "robotics.to_csv('robotics_new_class.csv')"
   ]
  },
  {
   "cell_type": "code",
   "execution_count": null,
   "id": "aab32740",
   "metadata": {},
   "outputs": [],
   "source": []
  }
 ],
 "metadata": {
  "kernelspec": {
   "display_name": "Python 3 (ipykernel)",
   "language": "python",
   "name": "python3"
  },
  "language_info": {
   "codemirror_mode": {
    "name": "ipython",
    "version": 3
   },
   "file_extension": ".py",
   "mimetype": "text/x-python",
   "name": "python",
   "nbconvert_exporter": "python",
   "pygments_lexer": "ipython3",
   "version": "3.9.7"
  },
  "toc": {
   "base_numbering": 1,
   "nav_menu": {},
   "number_sections": true,
   "sideBar": true,
   "skip_h1_title": false,
   "title_cell": "Table of Contents",
   "title_sidebar": "Contents",
   "toc_cell": false,
   "toc_position": {},
   "toc_section_display": true,
   "toc_window_display": false
  }
 },
 "nbformat": 4,
 "nbformat_minor": 5
}
